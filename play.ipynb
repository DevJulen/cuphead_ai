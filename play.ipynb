{
 "cells": [
  {
   "attachments": {},
   "cell_type": "markdown",
   "metadata": {},
   "source": [
    "# 1. Imports"
   ]
  },
  {
   "cell_type": "code",
   "execution_count": 4,
   "metadata": {},
   "outputs": [
    {
     "name": "stderr",
     "output_type": "stream",
     "text": [
      "YOLOv5  v7.0-117-g85f6019 Python-3.9.13 torch-1.8.2+cu111 CUDA:0 (NVIDIA GeForce GTX 1660 Ti, 6144MiB)\n"
     ]
    },
    {
     "name": "stdout",
     "output_type": "stream",
     "text": [
      "Setup complete  (6 CPUs, 15.9 GB RAM, 209.0/222.4 GB disk)\n",
      "Is CUDA available: True\n",
      "GPUs: 1\n",
      "GPU name: NVIDIA GeForce GTX 1660 Ti\n"
     ]
    }
   ],
   "source": [
    "!git clone https://github.com/ultralytics/yolov5\n",
    "%cd yolov5\n",
    "%pip install -qr requirements.txt\n",
    "\n",
    "import torch\n",
    "import utils\n",
    "display = utils.notebook_init()\n",
    "import torch\n",
    "import numpy as np\n",
    "import cv2\n",
    "import keyboard\n",
    "import win32gui\n",
    "from PIL import ImageGrab\n",
    "import pandas as pd\n",
    "import os\n",
    "\n",
    "print(\"Is CUDA available: %s\" % torch.cuda.is_available()) \n",
    "print(\"GPUs: %s\" % torch.cuda.device_count()) \n",
    "print(\"GPU name: %s\" % torch.cuda.get_device_name(0))"
   ]
  },
  {
   "attachments": {},
   "cell_type": "markdown",
   "metadata": {},
   "source": [
    "# 2. Load model"
   ]
  },
  {
   "cell_type": "code",
   "execution_count": 7,
   "metadata": {},
   "outputs": [
    {
     "name": "stderr",
     "output_type": "stream",
     "text": [
      "Downloading: \"https://github.com/ultralytics/yolov5/archive/master.zip\" to C:\\Users\\julen/.cache\\torch\\hub\\master.zip\n",
      "YOLOv5  v7.0-117-g85f6019 Python-3.9.13 torch-1.8.2+cu111 CUDA:0 (NVIDIA GeForce GTX 1660 Ti, 6144MiB)\n",
      "\n",
      "Fusing layers... \n",
      "Model summary: 157 layers, 7015519 parameters, 0 gradients, 15.8 GFLOPs\n",
      "Adding AutoShape... \n"
     ]
    }
   ],
   "source": [
    "model = torch.hub.load('ultralytics/yolov5', 'custom', path='../weights/final_weights.pt', force_reload=True)"
   ]
  },
  {
   "attachments": {},
   "cell_type": "markdown",
   "metadata": {},
   "source": [
    "# 3. Real time detections and executing actions"
   ]
  },
  {
   "cell_type": "code",
   "execution_count": 4,
   "metadata": {},
   "outputs": [],
   "source": [
    "\"\"\"\n",
    "Function to convert the output results into two np.arrays, one for cuphead and one for goopy\n",
    "\"\"\"\n",
    "def convert_results(results):\n",
    "    cup_det = np.zeros(5)\n",
    "    goop_det = np.zeros(5)\n",
    "\n",
    "    res = results.pandas().xyxy[0]\n",
    "\n",
    "    class_num = list(res[\"class\"].astype(int))\n",
    "\n",
    "    if(len(class_num) == 2):\n",
    "        xmax = res.xmax.astype(float)\n",
    "        xmin = res.xmin.astype(float)\n",
    "        ymax = res.ymax.astype(float)\n",
    "        ymin = res.ymin.astype(float)\n",
    "\n",
    "        x = list(((xmax+xmin)/2)/1168)\n",
    "        y = list(((ymax+ymin)/2)/657)\n",
    "        w = list((xmax-xmin)/1168)\n",
    "        h = list((ymax-ymin)/657)\n",
    "        \n",
    "        if(class_num[0]==0):\n",
    "            cup_det = np.array([class_num[0], x[0], y[0], w[0], h[0]])\n",
    "            goop_det = np.array([class_num[1], x[1], y[1], w[1], h[1]])\n",
    "        else:\n",
    "            goop_det = np.array([class_num[0], x[0], y[0], w[0], h[0]])\n",
    "            cup_det = np.array([class_num[1], x[1], y[1], w[1], h[1]])\n",
    "    \n",
    "    return cup_det, goop_det"
   ]
  },
  {
   "cell_type": "code",
   "execution_count": 5,
   "metadata": {},
   "outputs": [
    {
     "name": "stdout",
     "output_type": "stream",
     "text": [
      "Started\n",
      "Q pressed, exiting\n"
     ]
    }
   ],
   "source": [
    "DIST = 0.15\n",
    "AREA_THR = 0.05\n",
    "LEFT_LIMIT = 0.15\n",
    "RIGHT_LIMIT = 0.85\n",
    "\n",
    "cup = np.empty(5)\n",
    "goopy = np.empty(5)\n",
    "\n",
    "key = 'space'\n",
    "\n",
    "keyboard.wait('s') # wait for the 's' key to be pressed to start\n",
    "print(\"Started\")\n",
    "\n",
    "while True:\n",
    "    keyboard.press('x') # keep the shooting key pressed\n",
    "\n",
    "    hwnd = win32gui.FindWindow(None, \"Cuphead\") # find the game's window\n",
    "    rect = win32gui.GetWindowPlacement(hwnd)[-1]\n",
    "    image = ImageGrab.grab(rect)\n",
    "    image = image.crop((6, 30, 1174, 687)) # crop the frame for deletting the top bar and some pixels on the sides\n",
    "\n",
    "    # Make detections \n",
    "    results = model(image)\n",
    "\n",
    "    # convert results to the yolo input format \n",
    "    cup, goopy = convert_results(results)\n",
    "\n",
    "    cup_x = cup[1]\n",
    "    goop_x = goopy[1]\n",
    "\n",
    "    goopy_w = goopy[3]\n",
    "    goopy_h = goopy[4]\n",
    "    \n",
    "    if(goopy[1] != 0): # check if there are only 2 detections\n",
    "        # if cuphead is beyond the left or right limits then dash to the opposite side\n",
    "        if(cup_x <= LEFT_LIMIT):\n",
    "            keyboard.release('left')\n",
    "            key = 'right'\n",
    "            keyboard.press_and_release('right+left_shift')\n",
    "        elif(cup_x >= RIGHT_LIMIT):\n",
    "            keyboard.release('right')\n",
    "            key = 'left'\n",
    "            keyboard.press_and_release('left+left_shift')\n",
    "\n",
    "        # face to the enemy for shooting them\n",
    "        if(cup_x < goop_x):\n",
    "            if(key != 'right'):\n",
    "                keyboard.release('left')\n",
    "                key = 'right'\n",
    "                keyboard.press_and_release('right')\n",
    "        elif(cup_x > goop_x):\n",
    "            if(key != 'left'):\n",
    "                keyboard.release('right')\n",
    "                key = 'left'\n",
    "                keyboard.press_and_release('left')  \n",
    "\n",
    "        # if goopy's area is bigger than the area threshold go down\n",
    "        if(goopy_w*goopy_h >= AREA_THR or goop_x < LEFT_LIMIT or goop_x > RIGHT_LIMIT):\n",
    "            keyboard.press('down')\n",
    "        else:\n",
    "            keyboard.release('down')\n",
    "\n",
    "        # if cuphead and goopy are close then dash to avoid damage\n",
    "        if(abs(cup_x-goop_x) < DIST): \n",
    "            if(cup_x < goop_x):\n",
    "                keyboard.release('left')\n",
    "                keyboard.press_and_release('right+left_shift') # press the dashing key sequence\n",
    "            elif(cup_x > goop_x):\n",
    "                keyboard.release('right')\n",
    "                keyboard.press_and_release('left+left_shift') # press the dashing key sequence           \n",
    "    \n",
    "    cv2.imshow('YOLO', cv2.cvtColor(np.squeeze(results.render()), cv2.COLOR_BGR2RGB)) # show the frame with the detections in rgb format \n",
    "\n",
    "    # when exiting make sure that all the keys are released\n",
    "    if cv2.waitKey(10) & 0xFF == ord('q'):\n",
    "        print(\"Q pressed, exiting\")\n",
    "        keyboard.release('x')\n",
    "        keyboard.release('shift')\n",
    "        keyboard.release('right')\n",
    "        keyboard.release('left')\n",
    "        keyboard.release('down')\n",
    "        break\n",
    "            \n",
    "cv2.destroyAllWindows()"
   ]
  }
 ],
 "metadata": {
  "kernelspec": {
   "display_name": "Python 3",
   "language": "python",
   "name": "python3"
  },
  "language_info": {
   "codemirror_mode": {
    "name": "ipython",
    "version": 3
   },
   "file_extension": ".py",
   "mimetype": "text/x-python",
   "name": "python",
   "nbconvert_exporter": "python",
   "pygments_lexer": "ipython3",
   "version": "3.9.13"
  },
  "vscode": {
   "interpreter": {
    "hash": "915c4cdf270afee17f3082b7de9a8ce8a203d36ad9590e59e2ca20ebc7af4bad"
   }
  }
 },
 "nbformat": 4,
 "nbformat_minor": 2
}
